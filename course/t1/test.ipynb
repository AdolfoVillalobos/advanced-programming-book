{
 "cells": [
  {
   "cell_type": "code",
   "execution_count": null,
   "metadata": {},
   "outputs": [],
   "source": [
    "class Test:\n",
    "    \n",
    "    def __init__(self):\n",
    "        \n",
    "        self._a = []\n",
    "        self._b = []\n",
    "        self._c = []\n",
    "\n",
    "        \n",
    "    @property\n",
    "    def defense_line(self):\n",
    "        return self._a.extend(self._b)"
   ]
  },
  {
   "cell_type": "code",
   "execution_count": 23,
   "metadata": {},
   "outputs": [],
   "source": [
    "a = [1 ,2 ,3]\n",
    "b = [5, 8]\n",
    "c = [10]\n",
    "\n",
    "m = {\n",
    "    \"a\": [1, 2, 3],\n",
    "    \"b\": [5, 8],\n",
    "    \"c\": [10]\n",
    "}\n",
    "\n",
    "attack = 10\n",
    "finished = False\n",
    "\n",
    "\n",
    "for defense in m.values():\n",
    "    while defense and (attack >0):\n",
    "        d = defense[0]\n",
    "        if attack >= d:\n",
    "            attack -= d\n",
    "            defense.pop(0)\n",
    "        else:\n",
    "            defense[0] -= attack\n",
    "            attack = 0\n",
    "\n",
    "    \n",
    "    "
   ]
  },
  {
   "cell_type": "code",
   "execution_count": 27,
   "metadata": {},
   "outputs": [
    {
     "data": {
      "text/plain": [
       "{'a': [], 'b': [1, 8], 'c': [10]}"
      ]
     },
     "execution_count": 27,
     "metadata": {},
     "output_type": "execute_result"
    }
   ],
   "source": [
    "m"
   ]
  },
  {
   "cell_type": "code",
   "execution_count": 28,
   "metadata": {},
   "outputs": [
    {
     "data": {
      "text/plain": [
       "0"
      ]
     },
     "execution_count": 28,
     "metadata": {},
     "output_type": "execute_result"
    }
   ],
   "source": [
    "sum([])"
   ]
  },
  {
   "cell_type": "code",
   "execution_count": 26,
   "metadata": {},
   "outputs": [
    {
     "data": {
      "text/plain": [
       "[10]"
      ]
     },
     "execution_count": 26,
     "metadata": {},
     "output_type": "execute_result"
    }
   ],
   "source": []
  },
  {
   "cell_type": "code",
   "execution_count": null,
   "metadata": {},
   "outputs": [],
   "source": []
  }
 ],
 "metadata": {
  "kernelspec": {
   "display_name": "Python 3",
   "language": "python",
   "name": "python3"
  },
  "language_info": {
   "codemirror_mode": {
    "name": "ipython",
    "version": 3
   },
   "file_extension": ".py",
   "mimetype": "text/x-python",
   "name": "python",
   "nbconvert_exporter": "python",
   "pygments_lexer": "ipython3",
   "version": "3.8.3"
  }
 },
 "nbformat": 4,
 "nbformat_minor": 4
}
